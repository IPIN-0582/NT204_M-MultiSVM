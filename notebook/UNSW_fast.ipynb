{
 "cells": [
  {
   "cell_type": "markdown",
   "id": "ca318060",
   "metadata": {
    "id": "ca318060"
   },
   "source": [
    " ## 1-Preprocessing for unsw-nb15 dataset"
   ]
  },
  {
   "cell_type": "markdown",
   "id": "45338841",
   "metadata": {
    "id": "45338841"
   },
   "source": [
    "Load module"
   ]
  },
  {
   "cell_type": "code",
   "execution_count": 3,
   "id": "e76abaa2",
   "metadata": {
    "executionInfo": {
     "elapsed": 4740,
     "status": "ok",
     "timestamp": 1745400791272,
     "user": {
      "displayName": "Trương Quang Huy",
      "userId": "04761898342511529700"
     },
     "user_tz": -420
    },
    "id": "e76abaa2"
   },
   "outputs": [],
   "source": [
    "import pandas as pd\n",
    "import numpy as np\n",
    "from sklearn.preprocessing import MinMaxScaler\n",
    "from sklearn.neighbors import NearestNeighbors\n",
    "from scipy.sparse import csr_matrix, vstack\n",
    "from scipy import sparse\n",
    "import joblib\n",
    "import os\n",
    "from sklearn.decomposition import TruncatedSVD\n",
    "from scipy.stats import kurtosis\n",
    "from sklearn.model_selection import train_test_split\n",
    "import random\n",
    "from sklearn.ensemble import RandomForestClassifier\n",
    "from sklearn.model_selection import train_test_split\n",
    "from sklearn.metrics import accuracy_score, classification_report, precision_score, recall_score, f1_score, roc_auc_score, confusion_matrix, roc_curve\n",
    "from sklearn.svm import SVC\n",
    "from sklearn.neural_network import MLPClassifier\n",
    "from sklearn.utils import shuffle\n",
    "from sklearn.multiclass import OneVsRestClassifier\n",
    "import matplotlib.pyplot as plt\n",
    "import seaborn as sns"
   ]
  },
  {
   "cell_type": "markdown",
   "id": "a32ad0e4",
   "metadata": {
    "id": "a32ad0e4"
   },
   "source": [
    "Load dataset"
   ]
  },
  {
   "cell_type": "code",
   "execution_count": 4,
   "id": "ea1306e6",
   "metadata": {
    "id": "ea1306e6",
    "outputId": "dc6a5b55-64ba-4dd8-98a5-e7b04561a3c6"
   },
   "outputs": [
    {
     "name": "stdout",
     "output_type": "stream",
     "text": [
      "Train shape: (175341, 45)\n",
      "Test shape: (82332, 45)\n"
     ]
    }
   ],
   "source": [
    "# Load train/test từ file CSV\n",
    "train_df = pd.read_csv(\"../dataset/unsw-nb15/UNSW_NB15_training-set.csv\")\n",
    "test_df = pd.read_csv(\"../dataset/unsw-nb15/UNSW_NB15_testing-set.csv\")\n",
    "\n",
    "# Gộp dữ liệu\n",
    "full_df = pd.concat([train_df, test_df], ignore_index=True)\n",
    "\n",
    "print(\"Train shape:\", train_df.shape)\n",
    "print(\"Test shape:\", test_df.shape)"
   ]
  },
  {
   "cell_type": "markdown",
   "id": "fffb45c5",
   "metadata": {
    "id": "fffb45c5"
   },
   "source": [
    "Null value handling"
   ]
  },
  {
   "cell_type": "code",
   "execution_count": 5,
   "id": "073145b5",
   "metadata": {
    "id": "073145b5",
    "outputId": "9d7eeea7-4b8e-447d-e55e-6c351839a013"
   },
   "outputs": [
    {
     "name": "stdout",
     "output_type": "stream",
     "text": [
      "Full shape: (257673, 45)\n",
      "Train shape: (175341, 45)\n",
      "Test shape: (82332, 45)\n",
      "Tỷ lệ Benign (0) và Malicious (1):\n",
      "label\n",
      "1    119341\n",
      "0     56000\n",
      "Name: count, dtype: int64\n",
      "\n",
      "Các loại attack trong 'attack_cat':\n",
      "attack_cat\n",
      "Normal            56000\n",
      "Generic           40000\n",
      "Exploits          33393\n",
      "Fuzzers           18184\n",
      "DoS               12264\n",
      "Reconnaissance    10491\n",
      "Analysis           2000\n",
      "Backdoor           1746\n",
      "Shellcode          1133\n",
      "Worms               130\n",
      "Name: count, dtype: int64\n"
     ]
    }
   ],
   "source": [
    "full_df = full_df.dropna()\n",
    "train_df = train_df.dropna()\n",
    "test_df = test_df.dropna()\n",
    "\n",
    "print(\"Full shape:\", full_df.shape)\n",
    "print(\"Train shape:\", train_df.shape)\n",
    "print(\"Test shape:\", test_df.shape)\n",
    "\n",
    "label_counts = train_df['label'].value_counts()\n",
    "print(\"Tỷ lệ Benign (0) và Malicious (1):\")\n",
    "print(label_counts)\n",
    "\n",
    "print(\"\\nCác loại attack trong 'attack_cat':\")\n",
    "print(train_df['attack_cat'].value_counts())"
   ]
  },
  {
   "cell_type": "markdown",
   "id": "092fb470",
   "metadata": {
    "id": "092fb470"
   },
   "source": [
    "Tách X/y"
   ]
  },
  {
   "cell_type": "code",
   "execution_count": 6,
   "id": "abeca995",
   "metadata": {
    "id": "abeca995",
    "outputId": "172877df-d958-434d-ab1c-12b8b2fd893d"
   },
   "outputs": [
    {
     "name": "stdout",
     "output_type": "stream",
     "text": [
      "Training X shape: (175341, 42)\n",
      "Training y distribution: [ 56000 119341]\n"
     ]
    }
   ],
   "source": [
    "# Xử lý training set\n",
    "X_train = train_df.drop(columns=[\"id\", \"attack_cat\", \"label\"])\n",
    "y_train = (train_df[\"label\"] != 0).astype(int)\n",
    "\n",
    "# Xử lý test set\n",
    "X_test = test_df.drop(columns=[\"id\", \"attack_cat\", \"label\"])\n",
    "y_test = (test_df[\"label\"] != 0).astype(int)\n",
    "\n",
    "print(\"Training X shape:\", X_train.shape)\n",
    "print(\"Training y distribution:\", np.bincount(y_train))"
   ]
  },
  {
   "cell_type": "markdown",
   "id": "891a38ca",
   "metadata": {
    "id": "891a38ca"
   },
   "source": [
    "Min-max normalization"
   ]
  },
  {
   "cell_type": "code",
   "execution_count": 7,
   "id": "bc135112",
   "metadata": {
    "id": "bc135112",
    "outputId": "91ebf3ce-1e86-44e4-ec32-0ee86c743f3b"
   },
   "outputs": [
    {
     "name": "stdout",
     "output_type": "stream",
     "text": [
      "X_train_scaled shape: (175341, 194)\n",
      "X_test_scaled shape: (82332, 194)\n"
     ]
    }
   ],
   "source": [
    "# One-hot encoding cho cột dạng chuỗi (object)\n",
    "X_train_encoded = pd.get_dummies(X_train)\n",
    "X_test_encoded = pd.get_dummies(X_test)\n",
    "\n",
    "# Căn chỉnh cột giữa train và test\n",
    "X_train_encoded, X_test_encoded = X_train_encoded.align(X_test_encoded, join='left', axis=1, fill_value=0)\n",
    "\n",
    "# Chuẩn hóa\n",
    "scaler = MinMaxScaler()\n",
    "X_train_scaled = scaler.fit_transform(X_train_encoded)\n",
    "X_test_scaled = scaler.transform(X_test_encoded)\n",
    "\n",
    "# Kiểm tra\n",
    "print(\"X_train_scaled shape:\", X_train_scaled.shape)\n",
    "print(\"X_test_scaled shape:\", X_test_scaled.shape)"
   ]
  },
  {
   "cell_type": "markdown",
   "id": "5aa2db71",
   "metadata": {
    "id": "5aa2db71"
   },
   "source": [
    "## 2-ASmoT oversampling"
   ]
  },
  {
   "cell_type": "markdown",
   "id": "0514b31e",
   "metadata": {
    "id": "0514b31e"
   },
   "source": [
    "Load ASmoT OverSampling"
   ]
  },
  {
   "cell_type": "code",
   "execution_count": 8,
   "id": "7aa63841",
   "metadata": {
    "id": "7aa63841"
   },
   "outputs": [],
   "source": [
    "\n",
    "def asmot_extended(\n",
    "    X_sparse        : csr_matrix,\n",
    "    y,\n",
    "    minority_class  : int = 0,\n",
    "    target_total    : int = None,   # Số lượng tổng mong muốn cho lớp thiểu số\n",
    "    k_neighbors     : int = 5,\n",
    "    k_step          : int = 5,      # mỗi vòng tăng thêm bao nhiêu k\n",
    "    max_per_sample  : int = 20,     # tối đa synthetic / seed\n",
    "    max_loop        : int = 5       # tối đa số vòng tăng k\n",
    "):\n",
    "    \"\"\"\n",
    "    ASmoT cải tiến sinh đủ mẫu synthetic cho lớp thiểu số\n",
    "    ----------------------------------------------------\n",
    "    Parameters\n",
    "    ----------\n",
    "    X_sparse : csr_matrix  -- ma trận đặc trưng (sparse)\n",
    "    y        : array-like   -- nhãn\n",
    "    minority_class : int    -- giá trị lớp thiểu số cần oversample\n",
    "    target_total   : int    -- tổng bản ghi mong muốn của minority (train)\n",
    "    k_neighbors    : int    -- số hàng xóm khởi tạo\n",
    "    k_step, max_loop, max_per_sample : tham số điều khiển vòng lặp\n",
    "\n",
    "    Returns\n",
    "    -------\n",
    "    X_new : csr_matrix  -- ma trận sau oversample\n",
    "    y_new : ndarray     -- nhãn sau oversample\n",
    "    \"\"\"\n",
    "    assert isinstance(X_sparse, csr_matrix), \"X phải ở dạng csr_matrix\"\n",
    "    y = np.array(y).ravel()\n",
    "\n",
    "    # ----------------- Thống kê ban đầu -----------------\n",
    "    X_min = X_sparse[y == minority_class]\n",
    "    n_min = X_min.shape[0]\n",
    "    if target_total is None or target_total <= n_min:\n",
    "        print(\"[ASmoT] Không cần oversample.\")\n",
    "        return X_sparse, y\n",
    "\n",
    "    needed_total   = target_total - n_min\n",
    "    print(f\"[ASmoT] Cần sinh thêm {needed_total:,} mẫu cho lớp {minority_class}\")\n",
    "\n",
    "    # ----------------------------------------------------\n",
    "    loop, generated = 0, 0\n",
    "    X_syn_list = []\n",
    "\n",
    "    while generated < needed_total and loop < max_loop:\n",
    "        k_now = k_neighbors + loop * k_step\n",
    "        print(f\"\\n[ASmoT] --- Vòng {loop+1} | k_neighbors = {k_now} ---\")\n",
    "\n",
    "        # Fit nearest‑neighbors\n",
    "        nn = NearestNeighbors(n_neighbors=k_now+1,\n",
    "                              metric='cosine', algorithm='brute', n_jobs=-1)\n",
    "        nn.fit(X_sparse)\n",
    "        _, indices = nn.kneighbors(X_min)\n",
    "\n",
    "        # Phân loại IPR / DPR\n",
    "        ipr_idx, dpr_idx = [], []\n",
    "        for i, idxs in enumerate(indices):\n",
    "            neigh_labels = y[idxs[1:]]\n",
    "            n_same  = np.sum(neigh_labels == minority_class)\n",
    "            n_other = k_now - n_same\n",
    "            if n_same == 0:              # IPR\n",
    "                ipr_idx.append(i)\n",
    "            elif n_other > n_same:       # DPR\n",
    "                dpr_idx.append(i)\n",
    "\n",
    "        seed_idx = ipr_idx + dpr_idx\n",
    "        if not seed_idx:\n",
    "            print(\"[ASmoT]  Không tìm thấy seed. Tăng k.\")\n",
    "            loop += 1\n",
    "            continue\n",
    "\n",
    "        # Xác định số synthetic mỗi seed\n",
    "        remain_need      = needed_total - generated\n",
    "        per_seed_default = max(1, remain_need // len(seed_idx))\n",
    "        per_seed         = min(per_seed_default, max_per_sample)\n",
    "\n",
    "        print(f\"[ASmoT]  IPR: {len(ipr_idx)}, DPR: {len(dpr_idx)} \"\n",
    "              f\"| Sẽ sinh {per_seed} mẫu/seed (tối đa {max_per_sample})\")\n",
    "\n",
    "        # --------- Sinh synthetic ----------\n",
    "        for i in seed_idx:\n",
    "            xi = X_min.getrow(i)\n",
    "            neigh_idx   = indices[i][1:]\n",
    "\n",
    "            if i in ipr_idx:\n",
    "                cand = [idx for idx in neigh_idx if y[idx] != minority_class]\n",
    "                if not cand:\n",
    "                    continue\n",
    "                for _ in range(per_seed):\n",
    "                    xj = X_sparse.getrow(np.random.choice(cand))\n",
    "                    alpha = np.random.rand()\n",
    "                    X_syn_list.append(xi + (xj - xi).multiply(alpha))\n",
    "\n",
    "            else:  # DPR\n",
    "                neighs = [X_sparse.getrow(j) for j in neigh_idx\n",
    "                          if y[j] != minority_class]\n",
    "                if not neighs:\n",
    "                    continue\n",
    "                ym = sum(neighs) / len(neighs)\n",
    "                for _ in range(per_seed):\n",
    "                    alpha = np.random.rand()\n",
    "                    X_syn_list.append(xi + (ym - xi).multiply(alpha))\n",
    "\n",
    "            generated += per_seed\n",
    "            if generated >= needed_total:\n",
    "                break\n",
    "\n",
    "        print(f\"[ASmoT]  Đã sinh {generated:,}/{needed_total:,} mẫu\")\n",
    "        loop += 1\n",
    "\n",
    "    # -------------- Ghép & trả về ----------------\n",
    "    if not X_syn_list:\n",
    "        print(\"[ASmoT]  Không sinh được synthetic sample nào.\")\n",
    "        return X_sparse, y\n",
    "\n",
    "    X_syn = vstack(X_syn_list)\n",
    "    y_syn = np.full(X_syn.shape[0], minority_class)\n",
    "    X_new = vstack([X_sparse, X_syn])\n",
    "    y_new = np.concatenate([y, y_syn])\n",
    "\n",
    "    print(f\"[ASmoT] ✔️  Tổng cuối cùng lớp {minority_class}: \"\n",
    "          f\"{np.sum(y_new==minority_class):,}\")\n",
    "\n",
    "    return X_new, y_new\n"
   ]
  },
  {
   "cell_type": "markdown",
   "id": "506a843e",
   "metadata": {
    "id": "506a843e"
   },
   "source": [
    "Oversampling by ASmoT"
   ]
  },
  {
   "cell_type": "code",
   "execution_count": 9,
   "id": "e5eb8c4b",
   "metadata": {
    "id": "e5eb8c4b",
    "outputId": "ed04439a-458d-4354-a9a5-f0773ea91c75"
   },
   "outputs": [
    {
     "name": "stdout",
     "output_type": "stream",
     "text": [
      "[ASmoT] Cần sinh thêm 43,905 mẫu cho lớp 0\n",
      "\n",
      "[ASmoT] --- Vòng 1 | k_neighbors = 8 ---\n",
      "[ASmoT]  IPR: 585, DPR: 4937 | Sẽ sinh 7 mẫu/seed (tối đa 15)\n",
      "[ASmoT]  Đã sinh 38,654/43,905 mẫu\n",
      "\n",
      "[ASmoT] --- Vòng 2 | k_neighbors = 12 ---\n",
      "[ASmoT]  IPR: 343, DPR: 5769 | Sẽ sinh 1 mẫu/seed (tối đa 15)\n",
      "[ASmoT]  Đã sinh 43,905/43,905 mẫu\n",
      "[ASmoT] ✔️  Tổng cuối cùng lớp 0: 99,905\n",
      "After ASmoT oversampling:\n",
      "    Resampled X shape: (219246, 194)\n",
      "    Resampled y distribution: [ 99905 119341]\n"
     ]
    }
   ],
   "source": [
    "# Chuyển X_train thành dạng sparce\n",
    "X_train_sparse = csr_matrix(X_train_scaled)\n",
    "\n",
    "# Giả sử đã có X_train_sparse (csr_matrix) và y_train\n",
    "TARGET_BENIGN_TRAIN = 99905   # 56 000 gốc + 43 905 cần sinh\n",
    "\n",
    "X_train_res, y_train_res = asmot_extended(\n",
    "    X_train_sparse,\n",
    "    y_train,\n",
    "    minority_class=0,\n",
    "    target_total=TARGET_BENIGN_TRAIN,\n",
    "    k_neighbors=8,      # bắt đầu thấp\n",
    "    k_step=4,           # mỗi vòng tăng thêm 4\n",
    "    max_per_sample=15,  # tối đa 15 synthetic/seed\n",
    "    max_loop=6          # thử tối đa 6 vòng\n",
    ")\n",
    "\n",
    "print(\"After ASmoT oversampling:\")\n",
    "print(\"    Resampled X shape:\", X_train_res.shape)\n",
    "print(\"    Resampled y distribution:\", np.bincount(y_train_res))"
   ]
  },
  {
   "cell_type": "markdown",
   "id": "61742b8e",
   "metadata": {
    "id": "61742b8e"
   },
   "source": [
    "Save variables after oversampling"
   ]
  },
  {
   "cell_type": "code",
   "execution_count": 10,
   "id": "ef173480",
   "metadata": {
    "id": "ef173480"
   },
   "outputs": [],
   "source": [
    "save_dir = \"../preprocessed\"\n",
    "os.makedirs(save_dir, exist_ok=True)\n",
    "\n",
    "# Lưu train (sparse)\n",
    "sparse.save_npz(os.path.join(save_dir, \"X_train_res.npz\"), X_train_res)\n",
    "joblib.dump(y_train_res, os.path.join(save_dir, \"y_train_res.pkl\"))\n",
    "\n",
    "# Lưu test (dense)\n",
    "np.savez(os.path.join(save_dir, \"X_test_scaled.npz\"), X=X_test_scaled)\n",
    "np.save(os.path.join(save_dir, \"y_test.npy\"), y_test)"
   ]
  },
  {
   "cell_type": "markdown",
   "id": "d4e5e1db",
   "metadata": {
    "id": "d4e5e1db"
   },
   "source": [
    "## 3-Feature extraction(M‑SvD)"
   ]
  },
  {
   "cell_type": "markdown",
   "id": "dc7da0eb",
   "metadata": {
    "id": "dc7da0eb"
   },
   "source": [
    "Nếu đã chạy xong phần 1,2 rồi thì bắt đầu chạy từ đây"
   ]
  },
  {
   "cell_type": "markdown",
   "id": "bdca47c5",
   "metadata": {
    "id": "bdca47c5"
   },
   "source": [
    "Load variables oversampling"
   ]
  },
  {
   "cell_type": "code",
   "execution_count": 11,
   "id": "81bb3e5b",
   "metadata": {
    "id": "81bb3e5b",
    "outputId": "09a4201a-399c-47dd-bb7b-3af6868cad0f"
   },
   "outputs": [
    {
     "name": "stdout",
     "output_type": "stream",
     "text": [
      "Train  X: (219246, 194) | y: (219246,)\n",
      "Test   X: (82332, 194) | y: (82332,)\n"
     ]
    }
   ],
   "source": [
    "SAVE_DIR = \"../preprocessed\"\n",
    "\n",
    "# --- TRAIN ---\n",
    "#  > X_train_res.npz\n",
    "#  > y_train_res.pkl\n",
    "X_train_sparse = sparse.load_npz(os.path.join(SAVE_DIR, \"X_train_res.npz\"))\n",
    "y_train = joblib.load(os.path.join(SAVE_DIR, \"y_train_res.pkl\"))\n",
    "\n",
    "# --- TEST ---\n",
    "# > X_test_scaled.npz\n",
    "# > y_test.npy\n",
    "X_test_scaled = np.load(os.path.join(SAVE_DIR, \"X_test_scaled.npz\"))[\"X\"]\n",
    "y_test = np.load(os.path.join(SAVE_DIR, \"y_test.npy\"))\n",
    "\n",
    "print(\"Train  X:\", X_train_sparse.shape,\n",
    "      \"| y:\", y_train.shape)\n",
    "print(\"Test   X:\", X_test_scaled.shape,\n",
    "      \"| y:\", y_test.shape)\n"
   ]
  },
  {
   "cell_type": "markdown",
   "id": "ded60763",
   "metadata": {
    "id": "ded60763"
   },
   "source": [
    "M-SvD function"
   ]
  },
  {
   "cell_type": "code",
   "execution_count": 12,
   "id": "f57ca8be",
   "metadata": {
    "id": "f57ca8be"
   },
   "outputs": [],
   "source": [
    "def select_g_star_SEK(X_proj, sigma, components, min_g=5, max_g=50):\n",
    "    sek_vals = []\n",
    "    ek_vals  = []\n",
    "    for g in range(1, components):\n",
    "        Ug = X_proj[:, :g]\n",
    "        Sg = np.diag(sigma[:g])\n",
    "        Vg = svd_probe.components_[:g, :]\n",
    "        Xg = Ug @ Sg @ Vg\n",
    "        ek = kurtosis(np.abs(Xg).ravel(), fisher=False)\n",
    "        ek_vals.append(ek)\n",
    "    ek_vals = np.array(ek_vals)\n",
    "    sek = np.abs(np.diff(ek_vals) / ek_vals[1:])\n",
    "\n",
    "    # Chỉ tìm g* trong khoảng min_g..max_g\n",
    "    g_range = np.arange(1, len(sek) + 1)  # vì diff giảm đi 1\n",
    "    valid_mask = (g_range >= min_g) & (g_range <= max_g)\n",
    "    g_star = g_range[valid_mask][np.argmax(sek[valid_mask])]\n",
    "\n",
    "    return g_star\n",
    "\n",
    "def msvd_extract(\n",
    "    X_train,\n",
    "    X_test,\n",
    "    y_train=None,\n",
    "    y_test=None,\n",
    "    probe_components=100,\n",
    "    fixed_g=None,\n",
    "    use_energy=False,\n",
    "    energy_thr=0.9,\n",
    "    min_g=5,\n",
    "    max_g=50,\n",
    "    save_path=None,\n",
    "    random_state=42\n",
    "):\n",
    "    # ---------- Bước 1: SVD \"thăm dò\" ----------\n",
    "    svd_probe = TruncatedSVD(\n",
    "        n_components=min(probe_components, X_train.shape[1] - 1),\n",
    "        algorithm=\"randomized\",\n",
    "        random_state=random_state\n",
    "    )\n",
    "    X_proj = svd_probe.fit_transform(X_train)\n",
    "    sigma = svd_probe.singular_values_\n",
    "    components = svd_probe.components_\n",
    "\n",
    "    # ---------- Bước 2: Chọn g★ ----------\n",
    "    if fixed_g is not None:\n",
    "        g_star = fixed_g\n",
    "    elif use_energy:\n",
    "        cum_energy = np.cumsum(sigma ** 2) / np.sum(sigma ** 2)\n",
    "        g_star = np.searchsorted(cum_energy, energy_thr) + 1\n",
    "    else:\n",
    "        ek = []\n",
    "        for g in range(1, len(sigma)):\n",
    "            Ug = X_proj[:, :g]\n",
    "            Sg = np.diag(sigma[:g])\n",
    "            Vg = components[:g, :]\n",
    "            Xg = Ug @ Sg @ Vg\n",
    "            ek_val = kurtosis(np.abs(Xg).ravel(), fisher=False)\n",
    "            ek.append(ek_val)\n",
    "        ek = np.array(ek)\n",
    "        sek = np.abs(np.diff(ek) / ek[1:])\n",
    "\n",
    "        g_range = np.arange(1, len(sek) + 1)\n",
    "        valid_mask = (g_range >= min_g) & (g_range <= max_g)\n",
    "        if not np.any(valid_mask):\n",
    "            raise ValueError(\"Không có g nào thỏa điều kiện min_g/max_g\")\n",
    "        g_star = g_range[valid_mask][np.argmax(sek[valid_mask])]\n",
    "\n",
    "    print(f\"[M-SvD] Selected g★ = {g_star}\")\n",
    "\n",
    "    # ---------- Bước 3: SVD cuối cùng ----------\n",
    "    svd_final = TruncatedSVD(\n",
    "        n_components=g_star,\n",
    "        algorithm=\"randomized\",\n",
    "        random_state=random_state\n",
    "    )\n",
    "    X_train_msvd = svd_final.fit_transform(X_train)\n",
    "    X_test_msvd = svd_final.transform(X_test)\n",
    "\n",
    "    print(f\"[M-SvD] Train shape: {X_train_msvd.shape} | Test shape: {X_test_msvd.shape}\")\n",
    "\n",
    "    # ---------- Bước 4: Lưu nếu cần ----------\n",
    "    if save_path:\n",
    "        obj = dict(\n",
    "            X_train_msvd=X_train_msvd,\n",
    "            X_test_msvd=X_test_msvd,\n",
    "            g_star=g_star,\n",
    "            svd_model=svd_final\n",
    "        )\n",
    "        if y_train is not None:\n",
    "            obj[\"y_train\"] = y_train\n",
    "        if y_test is not None:\n",
    "            obj[\"y_test\"] = y_test\n",
    "        joblib.dump(obj, save_path)\n",
    "        print(f\"[M-SvD] Saved to {save_path}\")\n",
    "\n",
    "    return X_train_msvd, X_test_msvd, g_star, svd_final"
   ]
  },
  {
   "cell_type": "markdown",
   "id": "8c57964d",
   "metadata": {
    "id": "8c57964d"
   },
   "source": [
    "Feature extraction by M-SvD"
   ]
  },
  {
   "cell_type": "code",
   "execution_count": 13,
   "id": "6c3d53cf",
   "metadata": {
    "id": "6c3d53cf",
    "outputId": "4d7f347d-f4af-492a-9e55-eb6c5f227af5"
   },
   "outputs": [
    {
     "name": "stdout",
     "output_type": "stream",
     "text": [
      "[M-SvD] Selected g★ = 9\n",
      "[M-SvD] Train shape: (219246, 9) | Test shape: (82332, 9)\n",
      "[M-SvD] Saved to ../preprocessed/msvd_features.pkl\n"
     ]
    }
   ],
   "source": [
    "X_train_msvd, X_test_msvd, g_star, svd_model = msvd_extract(\n",
    "    X_train_sparse,\n",
    "    sparse.csr_matrix(X_test_scaled),\n",
    "    y_train=y_train,\n",
    "    y_test=y_test,\n",
    "    probe_components=150,\n",
    "    use_energy=False,          # dùng SEK\n",
    "    min_g=5,\n",
    "    max_g=60,\n",
    "    save_path=\"../preprocessed/msvd_features.pkl\"\n",
    ")"
   ]
  },
  {
   "cell_type": "markdown",
   "id": "232e846d",
   "metadata": {
    "id": "232e846d"
   },
   "source": [
    "## 4- Feature selection"
   ]
  },
  {
   "cell_type": "markdown",
   "id": "373978a4",
   "metadata": {
    "id": "373978a4"
   },
   "source": [
    "Nếu đã chạy bước phần 3 rồi thì bắt đầu từ đây"
   ]
  },
  {
   "cell_type": "markdown",
   "id": "5f441099",
   "metadata": {
    "id": "5f441099"
   },
   "source": [
    "Load ongo_feature_select function"
   ]
  },
  {
   "cell_type": "code",
   "execution_count": 14,
   "id": "03f38c8e",
   "metadata": {
    "id": "03f38c8e"
   },
   "outputs": [],
   "source": [
    "def ongoing_fitness(mask, X, y, val_size=0.15, alpha=0.99, beta=0.01, rs=42):\n",
    "    if mask.sum() == 0:\n",
    "        return 1.0\n",
    "    X_sel = X[:, mask==1]\n",
    "    X_tr, X_va, y_tr, y_va = train_test_split(\n",
    "        X_sel, y, test_size=val_size, random_state=rs, stratify=y)\n",
    "\n",
    "    clf = RandomForestClassifier(\n",
    "            n_estimators=120, max_depth=None,\n",
    "            n_jobs=-1, random_state=rs)\n",
    "    clf.fit(X_tr, y_tr)\n",
    "    acc = accuracy_score(y_va, clf.predict(X_va))\n",
    "    d = X.shape[1]\n",
    "    return alpha*(1-acc) + beta*(mask.sum()/d)\n",
    "\n",
    "\n",
    "def ongo_feature_select(\n",
    "    X, y,\n",
    "    pop_size      = 20,     # số goshawk\n",
    "    max_iter      = 40,\n",
    "    alpha_fitness = 0.9,\n",
    "    beta_fitness  = 0.1,\n",
    "    opposition    = True,\n",
    "    random_state  = 42,\n",
    "    save_path     = None\n",
    "):\n",
    "    \"\"\"\n",
    "    Implementation của Opposition‑based Northern Goshawk Optimization\n",
    "    để chọn feature‑subset nhị phân.\n",
    "    Trả về:\n",
    "        best_mask   – ndarray bool (d,)\n",
    "        history     – list(best_fitness từng vòng)\n",
    "    \"\"\"\n",
    "    rng = np.random.default_rng(random_state)\n",
    "    n_samples, d = X.shape\n",
    "\n",
    "    # ----- Khởi tạo quần thể --------------------------\n",
    "    pop = rng.integers(0, 2, size=(pop_size, d), dtype=np.int8)\n",
    "    fitness = np.array([ongoing_fitness(m, X, y, alpha=alpha_fitness,\n",
    "                                        beta=beta_fitness, rs=random_state)\n",
    "                        for m in pop])\n",
    "    best_idx  = np.argmin(fitness)\n",
    "    best_mask = pop[best_idx].copy()\n",
    "    best_fit  = fitness[best_idx]\n",
    "    history   = [best_fit]\n",
    "\n",
    "    # --------------------------------------------------\n",
    "    for t in range(1, max_iter + 1):\n",
    "        w = rng.random()              # tham số ngẫu nhiên (paper dùng w∈[0,1])\n",
    "        L = 0.02 * (1 - t / max_iter)\n",
    "\n",
    "        for i in range(pop_size):\n",
    "            mask_i = pop[i].copy()\n",
    "\n",
    "            # ----- Prey identification & attack (nhị phân) -----\n",
    "            # Chọn ngẫu nhiên 1 goshawk khác f (prey)\n",
    "            j = rng.choice([x for x in range(pop_size) if x != i])\n",
    "            f = pop[j]\n",
    "\n",
    "            rand_flip = rng.random(d) < 0.1          # tần suất đổi bit\n",
    "            new_mask  = mask_i.copy()\n",
    "            # áp công thức “g + w*(f - g)”  → với nhị phân: copy bit từ f\n",
    "            new_mask[rand_flip] = f[rand_flip]\n",
    "\n",
    "            # ----- Chase & escape (nhị phân) -------------\n",
    "            if rng.random() < 0.5:\n",
    "                rand_flip2 = rng.random(d) < L        # L giảm dần\n",
    "                new_mask[rand_flip2] ^= 1             # lật bit\n",
    "\n",
    "            # ----- Đảm bảo không mask rỗng ---------------\n",
    "            if new_mask.sum() == 0:\n",
    "                new_mask[rng.integers(0, d)] = 1\n",
    "\n",
    "            # ----- opposition‑based learning -------------\n",
    "            if opposition:\n",
    "                opp_mask = 1 - new_mask\n",
    "                f1 = ongoing_fitness(new_mask, X, y,\n",
    "                                     alpha=alpha_fitness, beta=beta_fitness)\n",
    "                f2 = ongoing_fitness(opp_mask, X, y,\n",
    "                                     alpha=alpha_fitness, beta=beta_fitness)\n",
    "                if f2 < f1:\n",
    "                    new_mask, f1 = opp_mask, f2\n",
    "            else:\n",
    "                f1 = ongoing_fitness(new_mask, X, y,\n",
    "                                     alpha=alpha_fitness, beta=beta_fitness)\n",
    "\n",
    "            # ----- Chấp nhận nếu tốt hơn cá thể i ---------\n",
    "            if f1 < fitness[i]:\n",
    "                pop[i]   = new_mask\n",
    "                fitness[i] = f1\n",
    "\n",
    "                # cập nhật best toàn cục\n",
    "                if f1 < best_fit:\n",
    "                    best_fit  = f1\n",
    "                    best_mask = new_mask.copy()\n",
    "\n",
    "        history.append(best_fit)\n",
    "        print(f\"[ONgO] iter {t}/{max_iter}  best_fitness={best_fit:.4f}  \"\n",
    "              f\"feat={best_mask.sum()}\")\n",
    "\n",
    "    if save_path:\n",
    "        joblib.dump(dict(best_mask=best_mask, history=history),\n",
    "                    save_path)\n",
    "        print(f\"[ONgO] Saved mask to {save_path}\")\n",
    "\n",
    "    return best_mask, history\n"
   ]
  },
  {
   "cell_type": "markdown",
   "id": "0f54187f",
   "metadata": {
    "id": "0f54187f"
   },
   "source": [
    "Load features msvd"
   ]
  },
  {
   "cell_type": "code",
   "execution_count": 15,
   "id": "208fb65b",
   "metadata": {
    "id": "208fb65b"
   },
   "outputs": [],
   "source": [
    "# nạp đặc trưng từ bước M‑SvD\n",
    "data = joblib.load(\"../preprocessed/msvd_features.pkl\")\n",
    "X_train_msvd = data[\"X_train_msvd\"]\n",
    "y_train      = data[\"y_train\"]\n",
    "X_test_msvd  = data[\"X_test_msvd\"]\n",
    "y_test       = data[\"y_test\"]"
   ]
  },
  {
   "cell_type": "markdown",
   "id": "f48aa287",
   "metadata": {
    "id": "f48aa287"
   },
   "source": [
    "Feature selection by ONgO"
   ]
  },
  {
   "cell_type": "code",
   "execution_count": 16,
   "id": "f9d35853",
   "metadata": {
    "id": "f9d35853",
    "outputId": "0ce70a2a-e465-48c9-faf1-4cda12ec0c93"
   },
   "outputs": [
    {
     "name": "stdout",
     "output_type": "stream",
     "text": [
      "[ONgO] iter 1/10  best_fitness=0.1081  feat=3\n",
      "[ONgO] iter 2/10  best_fitness=0.1080  feat=3\n",
      "[ONgO] iter 3/10  best_fitness=0.1080  feat=3\n",
      "[ONgO] iter 4/10  best_fitness=0.1076  feat=3\n",
      "[ONgO] iter 5/10  best_fitness=0.1076  feat=3\n",
      "[ONgO] iter 6/10  best_fitness=0.1076  feat=3\n",
      "[ONgO] iter 7/10  best_fitness=0.1076  feat=3\n",
      "[ONgO] iter 8/10  best_fitness=0.1076  feat=3\n",
      "[ONgO] iter 9/10  best_fitness=0.1076  feat=3\n",
      "[ONgO] iter 10/10  best_fitness=0.1076  feat=3\n",
      "[ONgO] Saved mask to ../preprocessed/ongo_mask.pkl\n",
      "Số feature được chọn: 3\n"
     ]
    }
   ],
   "source": [
    "# ---- chạy ONgO ----\n",
    "best_mask, hist = ongo_feature_select(\n",
    "    X_train_msvd, y_train,\n",
    "    pop_size   = 25,\n",
    "    max_iter   = 10,\n",
    "    alpha_fitness = 0.9,\n",
    "    beta_fitness  = 0.1,\n",
    "    opposition = True,\n",
    "    random_state = 42,\n",
    "    save_path = \"../preprocessed/ongo_mask.pkl\"\n",
    ")\n",
    "\n",
    "print(\"Số feature được chọn:\", best_mask.sum())\n"
   ]
  },
  {
   "cell_type": "markdown",
   "id": "18db499a",
   "metadata": {
    "id": "18db499a"
   },
   "source": [
    "## 5- M‑MultiSVM"
   ]
  },
  {
   "cell_type": "markdown",
   "id": "28f9405c",
   "metadata": {
    "id": "28f9405c"
   },
   "source": [
    "Nạp đặc trưng từ bước ONgO"
   ]
  },
  {
   "cell_type": "code",
   "execution_count": 17,
   "id": "0401dd85",
   "metadata": {
    "colab": {
     "base_uri": "https://localhost:8080/"
    },
    "executionInfo": {
     "elapsed": 76,
     "status": "ok",
     "timestamp": 1745413279718,
     "user": {
      "displayName": "Trương Quang Huy",
      "userId": "04761898342511529700"
     },
     "user_tz": -420
    },
    "id": "0401dd85",
    "outputId": "ea54dd8a-8773-4ce6-f721-79bfef842e5c"
   },
   "outputs": [
    {
     "name": "stdout",
     "output_type": "stream",
     "text": [
      "X_train_sel shape: (219246, 3)\n",
      "X_test_sel shape : (82332, 3)\n"
     ]
    }
   ],
   "source": [
    "data = joblib.load(\"../preprocessed/msvd_features.pkl\")\n",
    "mask = joblib.load(\"../preprocessed/ongo_mask.pkl\")[\"best_mask\"]\n",
    "\n",
    "X_train_sel = data[\"X_train_msvd\"][:, mask == 1]\n",
    "X_test_sel  = data[\"X_test_msvd\"][:, mask == 1]\n",
    "y_train     = data[\"y_train\"]\n",
    "y_test      = data[\"y_test\"]\n",
    "\n",
    "print(\"X_train_sel shape:\", X_train_sel.shape)\n",
    "print(\"X_test_sel shape :\", X_test_sel.shape)"
   ]
  },
  {
   "cell_type": "markdown",
   "id": "a6f1ce64",
   "metadata": {
    "id": "a6f1ce64"
   },
   "source": [
    "Load M-MultiSVM function"
   ]
  },
  {
   "cell_type": "code",
   "execution_count": 18,
   "id": "d2050c53",
   "metadata": {
    "executionInfo": {
     "elapsed": 173,
     "status": "ok",
     "timestamp": 1745413281989,
     "user": {
      "displayName": "Trương Quang Huy",
      "userId": "04761898342511529700"
     },
     "user_tz": -420
    },
    "id": "d2050c53"
   },
   "outputs": [],
   "source": [
    "# --- M-MultiSVM with Mud Ring Optimizer ---\n",
    "# According to paper structure: MLP (as feature extractor) + SVM + Mud Ring optimization\n",
    "\n",
    "def mud_ring_optimizer(X_train, y_train, X_val, y_val, pop_size=3, max_iter=3, random_state=42):\n",
    "    np.random.seed(random_state)\n",
    "    best_score = 0\n",
    "    best_params = None\n",
    "\n",
    "    pop = [\n",
    "        {\n",
    "            \"C\": 10 ** np.random.uniform(-1, 2),\n",
    "            \"gamma\": 10 ** np.random.uniform(-4, -1),\n",
    "            \"hidden\": np.random.randint(8, 32)  # 8–32 neurons\n",
    "        }\n",
    "        for _ in range(pop_size)\n",
    "    ]\n",
    "\n",
    "    for gen in range(max_iter):\n",
    "        print(f\"[MudRing] Generation {gen+1}/{max_iter}\")\n",
    "        for ind in pop:\n",
    "            mlp = MLPClassifier(hidden_layer_sizes=(ind[\"hidden\"],), max_iter=50,\n",
    "                                early_stopping=True, n_iter_no_change=3, random_state=42)\n",
    "            mlp.fit(X_train, y_train)\n",
    "            X_tr_embed = mlp.predict_proba(X_train)\n",
    "            X_val_embed = mlp.predict_proba(X_val)\n",
    "\n",
    "            clf = SVC(C=ind[\"C\"], gamma=ind[\"gamma\"], kernel='rbf', probability=True)\n",
    "            clf.fit(X_tr_embed, y_train)\n",
    "            pred = clf.predict(X_val_embed)\n",
    "            acc = accuracy_score(y_val, pred)\n",
    "\n",
    "            if acc > best_score:\n",
    "                best_score = acc\n",
    "                best_params = ind.copy()\n",
    "\n",
    "        for i in range(pop_size):\n",
    "            pop[i] = {\n",
    "                \"C\": best_params[\"C\"] * 10 ** np.random.uniform(-0.2, 0.2),\n",
    "                \"gamma\": best_params[\"gamma\"] * 10 ** np.random.uniform(-0.2, 0.2),\n",
    "                \"hidden\": max(8, min(32,\n",
    "                             best_params[\"hidden\"] + np.random.randint(-4, 4)))\n",
    "            }\n",
    "\n",
    "    print(\"[MudRing] Best accuracy:\", best_score)\n",
    "    print(\"[MudRing] Best parameters:\", best_params)\n",
    "    return best_params\n",
    "\n",
    "\n",
    "def train_m_multisvm(X_train, y_train, X_test, y_test):\n",
    "    X_tr, X_val, y_tr, y_val = train_test_split(X_train, y_train, test_size=0.2, stratify=y_train, random_state=42)\n",
    "\n",
    "    best = mud_ring_optimizer(X_tr, y_tr, X_val, y_val, pop_size=3, max_iter=3)\n",
    "\n",
    "    mlp = MLPClassifier(\n",
    "        hidden_layer_sizes=(best[\"hidden\"],),\n",
    "        max_iter=50,\n",
    "        early_stopping=True,\n",
    "        n_iter_no_change=3,\n",
    "        tol=1e-4,\n",
    "        random_state=42\n",
    "    )\n",
    "\n",
    "    mlp.fit(X_train, y_train)\n",
    "    X_train_embed = mlp.predict_proba(X_train)\n",
    "    X_test_embed = mlp.predict_proba(X_test)\n",
    "\n",
    "    clf = SVC(C=best[\"C\"], gamma=best[\"gamma\"], kernel='rbf', probability=True)\n",
    "    clf.fit(X_train_embed, y_train)\n",
    "    y_pred = clf.predict(X_test_embed)\n",
    "    y_score = clf.predict_proba(X_test_embed)[:, 1] if len(np.unique(y_test)) == 2 else None\n",
    "\n",
    "    # Save model\n",
    "    os.makedirs(\"../models\", exist_ok=True)\n",
    "    joblib.dump(clf, \"../models/multisvm_svm.pkl\")\n",
    "    joblib.dump(mlp, \"../models/multisvm_mlp.pkl\")\n",
    "    joblib.dump(best, \"../models/multisvm_best_params.pkl\")\n",
    "    print(\"✅ Đã lưu mô hình M-MultiSVM vào thư mục models/\")\n",
    "\n",
    "    return clf, mlp, best, y_pred, y_score\n",
    "\n",
    "\n",
    "def evaluate_m_multisvm(y_test, y_pred, y_score):\n",
    "    print(\"\\n[M-MultiSVM Evaluation]\")\n",
    "    print(classification_report(y_test, y_pred, digits=4))\n",
    "    print(\"Accuracy :\", accuracy_score(y_test, y_pred))\n",
    "    print(\"Precision:\", precision_score(y_test, y_pred, average='weighted'))\n",
    "    print(\"Recall   :\", recall_score(y_test, y_pred, average='weighted'))\n",
    "    print(\"F1-score :\", f1_score(y_test, y_pred, average='weighted'))\n",
    "    if y_score is not None:\n",
    "        print(\"AUC      :\", roc_auc_score(y_test, y_score))\n",
    "\n",
    "    # Confusion Matrix\n",
    "    cm = confusion_matrix(y_test, y_pred)\n",
    "    sns.heatmap(cm, annot=True, fmt='d', cmap='Blues')\n",
    "    plt.title(\"Confusion Matrix\")\n",
    "    plt.xlabel(\"Predicted\")\n",
    "    plt.ylabel(\"Actual\")\n",
    "    plt.show()"
   ]
  },
  {
   "cell_type": "markdown",
   "id": "3a063c38",
   "metadata": {
    "id": "3a063c38"
   },
   "source": [
    "Train M-MultiSVM"
   ]
  },
  {
   "cell_type": "code",
   "execution_count": 19,
   "id": "5619e22d",
   "metadata": {
    "colab": {
     "base_uri": "https://localhost:8080/"
    },
    "id": "5619e22d",
    "outputId": "cb48e420-042f-4799-d410-302fd587cbc9"
   },
   "outputs": [
    {
     "name": "stdout",
     "output_type": "stream",
     "text": [
      "[MudRing] Generation 1/3\n",
      "[MudRing] Generation 2/3\n",
      "[MudRing] Generation 3/3\n",
      "[MudRing] Best accuracy: 0.806932725199544\n",
      "[MudRing] Best parameters: {'C': 1.3292918943162162, 'gamma': 0.07114476009343416, 'hidden': 18}\n",
      "✅ Đã lưu mô hình M-MultiSVM vào thư mục models/\n",
      "\n",
      "[M-MultiSVM Evaluation]\n",
      "              precision    recall  f1-score   support\n",
      "\n",
      "           0     0.7317    0.9317    0.8197     37000\n",
      "           1     0.9283    0.7211    0.8117     45332\n",
      "\n",
      "    accuracy                         0.8158     82332\n",
      "   macro avg     0.8300    0.8264    0.8157     82332\n",
      "weighted avg     0.8399    0.8158    0.8153     82332\n",
      "\n",
      "Accuracy : 0.8157824418209202\n",
      "Precision: 0.8399328142915551\n",
      "Recall   : 0.8157824418209202\n",
      "F1-score : 0.8152920822579568\n",
      "AUC      : 0.907087357299062\n"
     ]
    },
    {
     "data": {
      "image/png": "[encoded data removed]",
      "text/plain": [
       "<Figure size 640x480 with 2 Axes>"
      ]
     },
     "metadata": {},
     "output_type": "display_data"
    }
   ],
   "source": [
    "clf, mlp, best, y_pred, y_score = train_m_multisvm(X_train_sel, y_train, X_test_sel, y_test)\n",
    "\n",
    "evaluate_m_multisvm(y_test, y_pred, y_score)"
   ]
  },
  {
   "cell_type": "markdown",
   "id": "d2162938",
   "metadata": {},
   "source": [
    "# So sánh baseline models trên feature sau khi chay ONgO"
   ]
  },
  {
   "cell_type": "code",
   "execution_count": 27,
   "id": "78fae7a1",
   "metadata": {},
   "outputs": [
    {
     "name": "stdout",
     "output_type": "stream",
     "text": [
      "Training & evaluating LR...\n",
      "Training & evaluating DT...\n",
      "Training & evaluating RF...\n",
      "Training & evaluating KNN...\n",
      "Training & evaluating AdaBoost...\n",
      "Training & evaluating XGBoost...\n"
     ]
    },
    {
     "name": "stderr",
     "output_type": "stream",
     "text": [
      "c:\\Users\\ADMIN\\AppData\\Local\\Programs\\Python\\Python312\\Lib\\site-packages\\xgboost\\training.py:183: UserWarning: [12:02:16] WARNING: C:\\actions-runner\\_work\\xgboost\\xgboost\\src\\learner.cc:738: \n",
      "Parameters: { \"use_label_encoder\" } are not used.\n",
      "\n",
      "  bst.update(dtrain, iteration=i, fobj=obj)\n"
     ]
    },
    {
     "name": "stdout",
     "output_type": "stream",
     "text": [
      "Training & evaluating LightGBM...\n",
      "[LightGBM] [Info] Number of positive: 119341, number of negative: 99905\n",
      "[LightGBM] [Info] Auto-choosing row-wise multi-threading, the overhead of testing was 0.000488 seconds.\n",
      "You can set `force_row_wise=true` to remove the overhead.\n",
      "And if memory is not enough, you can set `force_col_wise=true`.\n",
      "[LightGBM] [Info] Total Bins 765\n",
      "[LightGBM] [Info] Number of data points in the train set: 219246, number of used features: 3\n",
      "[LightGBM] [Info] [binary:BoostFromScore]: pavg=0.544325 -> initscore=0.177765\n",
      "[LightGBM] [Info] Start training from score 0.177765\n"
     ]
    },
    {
     "name": "stderr",
     "output_type": "stream",
     "text": [
      "c:\\Users\\ADMIN\\AppData\\Local\\Programs\\Python\\Python312\\Lib\\site-packages\\sklearn\\utils\\validation.py:2739: UserWarning: X does not have valid feature names, but LGBMClassifier was fitted with feature names\n",
      "  warnings.warn(\n"
     ]
    },
    {
     "data": {
      "text/html": [
       "<div>\n",
       "<style scoped>\n",
       "    .dataframe tbody tr th:only-of-type {\n",
       "        vertical-align: middle;\n",
       "    }\n",
       "\n",
       "    .dataframe tbody tr th {\n",
       "        vertical-align: top;\n",
       "    }\n",
       "\n",
       "    .dataframe thead th {\n",
       "        text-align: right;\n",
       "    }\n",
       "</style>\n",
       "<table border=\"1\" class=\"dataframe\">\n",
       "  <thead>\n",
       "    <tr style=\"text-align: right;\">\n",
       "      <th></th>\n",
       "      <th>Accuracy (%)</th>\n",
       "      <th>Precision (%)</th>\n",
       "      <th>Recall (%)</th>\n",
       "      <th>F1-score (%)</th>\n",
       "      <th>False Positive Rate (%)</th>\n",
       "    </tr>\n",
       "    <tr>\n",
       "      <th>Model</th>\n",
       "      <th></th>\n",
       "      <th></th>\n",
       "      <th></th>\n",
       "      <th></th>\n",
       "      <th></th>\n",
       "    </tr>\n",
       "  </thead>\n",
       "  <tbody>\n",
       "    <tr>\n",
       "      <th>LR</th>\n",
       "      <td>76.892338</td>\n",
       "      <td>77.547818</td>\n",
       "      <td>76.892338</td>\n",
       "      <td>76.412874</td>\n",
       "      <td>36.759459</td>\n",
       "    </tr>\n",
       "    <tr>\n",
       "      <th>DT</th>\n",
       "      <td>85.045912</td>\n",
       "      <td>85.129269</td>\n",
       "      <td>85.045912</td>\n",
       "      <td>84.967639</td>\n",
       "      <td>20.767568</td>\n",
       "    </tr>\n",
       "    <tr>\n",
       "      <th>RF</th>\n",
       "      <td>87.149589</td>\n",
       "      <td>87.152343</td>\n",
       "      <td>87.149589</td>\n",
       "      <td>87.120744</td>\n",
       "      <td>16.354054</td>\n",
       "    </tr>\n",
       "    <tr>\n",
       "      <th>KNN</th>\n",
       "      <td>86.090463</td>\n",
       "      <td>86.087527</td>\n",
       "      <td>86.090463</td>\n",
       "      <td>86.088891</td>\n",
       "      <td>15.597297</td>\n",
       "    </tr>\n",
       "    <tr>\n",
       "      <th>AdaBoost</th>\n",
       "      <td>80.735316</td>\n",
       "      <td>80.775982</td>\n",
       "      <td>80.735316</td>\n",
       "      <td>80.750172</td>\n",
       "      <td>20.518919</td>\n",
       "    </tr>\n",
       "    <tr>\n",
       "      <th>XGBoost</th>\n",
       "      <td>89.320070</td>\n",
       "      <td>90.080452</td>\n",
       "      <td>89.320070</td>\n",
       "      <td>89.345816</td>\n",
       "      <td>4.875676</td>\n",
       "    </tr>\n",
       "    <tr>\n",
       "      <th>LightGBM</th>\n",
       "      <td>88.582811</td>\n",
       "      <td>89.870278</td>\n",
       "      <td>88.582811</td>\n",
       "      <td>88.599348</td>\n",
       "      <td>3.362162</td>\n",
       "    </tr>\n",
       "    <tr>\n",
       "      <th>Proposed</th>\n",
       "      <td>88.582811</td>\n",
       "      <td>89.870278</td>\n",
       "      <td>88.582811</td>\n",
       "      <td>88.599348</td>\n",
       "      <td>3.362162</td>\n",
       "    </tr>\n",
       "  </tbody>\n",
       "</table>\n",
       "</div>"
      ],
      "text/plain": [
       "          Accuracy (%)  Precision (%)  Recall (%)  F1-score (%)  \\\n",
       "Model                                                             \n",
       "LR           76.892338      77.547818   76.892338     76.412874   \n",
       "DT           85.045912      85.129269   85.045912     84.967639   \n",
       "RF           87.149589      87.152343   87.149589     87.120744   \n",
       "KNN          86.090463      86.087527   86.090463     86.088891   \n",
       "AdaBoost     80.735316      80.775982   80.735316     80.750172   \n",
       "XGBoost      89.320070      90.080452   89.320070     89.345816   \n",
       "LightGBM     88.582811      89.870278   88.582811     88.599348   \n",
       "Proposed     88.582811      89.870278   88.582811     88.599348   \n",
       "\n",
       "          False Positive Rate (%)  \n",
       "Model                              \n",
       "LR                      36.759459  \n",
       "DT                      20.767568  \n",
       "RF                      16.354054  \n",
       "KNN                     15.597297  \n",
       "AdaBoost                20.518919  \n",
       "XGBoost                  4.875676  \n",
       "LightGBM                 3.362162  \n",
       "Proposed                 3.362162  "
      ]
     },
     "metadata": {},
     "output_type": "display_data"
    },
    {
     "data": {
      "image/png": "[encoded data removed]",
      "text/plain": [
       "<Figure size 1440x800 with 5 Axes>"
      ]
     },
     "metadata": {},
     "output_type": "display_data"
    }
   ],
   "source": [
    "import time\n",
    "import pandas as pd\n",
    "import seaborn as sns\n",
    "import matplotlib.pyplot as plt\n",
    "\n",
    "from sklearn.metrics       import accuracy_score, precision_score, recall_score, f1_score, confusion_matrix\n",
    "from sklearn.linear_model  import LogisticRegression\n",
    "from sklearn.tree          import DecisionTreeClassifier\n",
    "from sklearn.ensemble      import RandomForestClassifier, AdaBoostClassifier\n",
    "from sklearn.neighbors     import KNeighborsClassifier\n",
    "from xgboost               import XGBClassifier\n",
    "from lightgbm              import LGBMClassifier\n",
    "\n",
    "# 1) Định nghĩa các model baseline\n",
    "models = {\n",
    "    \"LR\"       : LogisticRegression(max_iter=200, random_state=42),\n",
    "    \"DT\"       : DecisionTreeClassifier(random_state=42),\n",
    "    \"RF\"       : RandomForestClassifier(n_estimators=100, random_state=42),\n",
    "    \"KNN\"      : KNeighborsClassifier(n_neighbors=5),\n",
    "    \"AdaBoost\" : AdaBoostClassifier(n_estimators=50, random_state=42),\n",
    "    \"XGBoost\"  : XGBClassifier(use_label_encoder=False, eval_metric=\"logloss\", random_state=42),\n",
    "    \"LightGBM\" : LGBMClassifier(random_state=42)\n",
    "}\n",
    "\n",
    "# 2) Train & thu thập metric\n",
    "records = []\n",
    "for name, mdl in models.items():\n",
    "    print(f\"Training & evaluating {name}...\")\n",
    "    t0 = time.time()\n",
    "    mdl.fit(X_train_sel, y_train)\n",
    "    train_time = time.time() - t0\n",
    "    \n",
    "    y_pred = mdl.predict(X_test_sel)\n",
    "    acc   = accuracy_score(y_test, y_pred) * 100\n",
    "    prec  = precision_score(y_test, y_pred, average='weighted') * 100\n",
    "    rec   = recall_score(y_test, y_pred, average='weighted') * 100\n",
    "    f1    = f1_score(y_test, y_pred, average='weighted') * 100\n",
    "    \n",
    "    tn, fp, fn, tp = confusion_matrix(y_test, y_pred).ravel()\n",
    "    fpr   = fp / (fp + tn) * 100\n",
    "    \n",
    "    records.append({\n",
    "        \"Model\": name,\n",
    "        \"Accuracy (%)\"         : acc,\n",
    "        \"Precision (%)\"        : prec,\n",
    "        \"Recall (%)\"           : rec,\n",
    "        \"F1-score (%)\"         : f1,\n",
    "        \"False Positive Rate (%)\": fpr,\n",
    "    })\n",
    "\n",
    "# 3) Thêm model Proposed (M-MultiSVM)\n",
    "acc_prop = accuracy_score(y_test, y_pred)\n",
    "prec_prop = precision_score(y_test, y_pred, average='weighted')\n",
    "rec_prop  = recall_score(   y_test, y_pred, average='weighted')\n",
    "f1_prop   = f1_score(      y_test, y_pred, average='weighted')\n",
    "tn, fp, fn, tp = confusion_matrix(y_test, y_pred).ravel()\n",
    "fpr_prop = fp/(fp+tn)\n",
    "\n",
    "records.append({\n",
    "    \"Model\": \"Proposed\",\n",
    "    \"Accuracy (%)\"         : acc_prop*100,\n",
    "    \"Precision (%)\"        : prec_prop*100,\n",
    "    \"Recall (%)\"           : rec_prop*100,\n",
    "    \"F1-score (%)\"         : f1_prop*100,\n",
    "    \"False Positive Rate (%)\": fpr_prop*100,\n",
    "})\n",
    "\n",
    "# 4) Tạo DataFrame\n",
    "df_metrics = pd.DataFrame(records).set_index(\"Model\")\n",
    "display(df_metrics)\n",
    "\n",
    "# 5) Vẽ biểu đồ cột cho mỗi metric\n",
    "df_melt = df_metrics.reset_index().melt(id_vars=\"Model\", var_name=\"Metric\", value_name=\"Value\")\n",
    "g = sns.catplot(\n",
    "    data=df_melt, x=\"Model\", y=\"Value\", hue=\"Model\",\n",
    "    col=\"Metric\", col_wrap=3, kind=\"bar\", sharey=False,\n",
    "    height=4, aspect=1.2\n",
    ")\n",
    "\n",
    "g.set_xticklabels(rotation=45)\n",
    "plt.tight_layout()\n",
    "plt.show()\n"
   ]
  }
 ],
 "metadata": {
  "colab": {
   "provenance": []
  },
  "kernelspec": {
   "display_name": "Python 3",
   "language": "python",
   "name": "python3"
  },
  "language_info": {
   "codemirror_mode": {
    "name": "ipython",
    "version": 3
   },
   "file_extension": ".py",
   "mimetype": "text/x-python",
   "name": "python",
   "nbconvert_exporter": "python",
   "pygments_lexer": "ipython3",
   "version": "3.12.6"
  }
 },
 "nbformat": 4,
 "nbformat_minor": 5
}
